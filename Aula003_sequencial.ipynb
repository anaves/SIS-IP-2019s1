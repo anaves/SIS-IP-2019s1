{
 "cells": [
  {
   "cell_type": "markdown",
   "metadata": {},
   "source": [
    "Programação Sequencial"
   ]
  },
  {
   "cell_type": "markdown",
   "metadata": {},
   "source": [
    "1- Faça um programa que receba o salário de um funcionário, calcule e mostre o novo salário, sabendo-se que este sofreu um aumento de x%, onde x é um valor definido pelo usuário."
   ]
  },
  {
   "cell_type": "code",
   "execution_count": null,
   "metadata": {},
   "outputs": [],
   "source": [
    "print('#'*30)\n",
    "print('Calculadora Salarial')\n",
    "print('#'*30)\n",
    "# entrada de dados\n",
    "salario_atual = float(input('Digite seu salário atual: R$ '))\n",
    "taxa_percentual = float(input('Digite a taxa percentual de aumento em %: '))\n",
    "# processamento\n",
    "aumento = salario_atual*(taxa_percentual/100)\n",
    "salario_final = salario_atual + aumento\n",
    "# saída\n",
    "print('Seu salário após o aumento será: R$ {}'.format(salario_final))"
   ]
  },
  {
   "cell_type": "markdown",
   "metadata": {},
   "source": [
    "2- Faça um programa que receba o valor de um depósito e o valor da taxa de juros, calcule e mostre o valor do rendimento e o valor total depois do rendimento."
   ]
  },
  {
   "cell_type": "code",
   "execution_count": null,
   "metadata": {},
   "outputs": [],
   "source": [
    "print('+'*30)\n",
    "print('Calculadora financeira')\n",
    "print('+'*30)\n",
    "# entrada de dados\n",
    "deposito = float(input('Digite o valor depositado: R$ '))\n",
    "taxa_rendimento = float(input('Digite a taxa de rendimento em %: '))\n",
    "# processamento de dados\n",
    "rendimento = deposito*(taxa_rendimento/100)\n",
    "saldo_total = deposito + rendimento\n",
    "# saída de dados\n",
    "print('Seu saldo é de: R$ {}'.format(saldo_total))"
   ]
  },
  {
   "cell_type": "markdown",
   "metadata": {},
   "source": [
    "3- Faça um programa que calcule e mostre a área de um triângulo. Sabe-se que: Área = (base*altura)/2"
   ]
  },
  {
   "cell_type": "code",
   "execution_count": null,
   "metadata": {},
   "outputs": [],
   "source": [
    "print('Calculadora de área de um triângulo')\n",
    "# entrada de dados\n",
    "base = float(input('Qual a base: '))\n",
    "altura = float(input('Qual a altura: '))\n",
    "# processamento de dados\n",
    "area = (base*altura)/2\n",
    "# saída de dados\n",
    "print('Área de {} unidade de medida²'.format(area))"
   ]
  },
  {
   "cell_type": "markdown",
   "metadata": {},
   "source": [
    "4- Faça um programa que receba um número positivo e maior que zero, calcule e mostre:\n",
    "    a) o número digitado ao quadrado.\n",
    "    b) o número digitado ao cubo.\n",
    "    c) a raiz quadrada do número.\n",
    "    d) a raiz cúbica do número.\n",
    "    dica 1: em Python: 2³ seria programado como: 2**3   \n",
    "    "
   ]
  },
  {
   "cell_type": "code",
   "execution_count": null,
   "metadata": {},
   "outputs": [],
   "source": [
    "print('#'*30)\n",
    "print('Calculadora simples')\n",
    "print('#'*30)\n",
    "# entrada de dados\n",
    "valor = int(input('Digite: '))\n",
    "# processamento\n",
    "valor_quadrado = valor**2\n",
    "valor_cubo = valor**3\n",
    "raiz_quadrada = valor**0.5 # 1/2 é 0.5\n",
    "raiz_cubica = valor**(1/3) \n",
    "# saída de dados\n",
    "print('Valor ao quadrado {}'.format(valor_quadrado))\n",
    "print('Valor ao cubo {}'.format(valor_cubo))\n",
    "print('Raiz quadrada do valor {:.2f}'.format(raiz_quadrada)) # {:.2f} imprime o valor com 2 casas decimais\n",
    "print(f'Raiz cúbica do valor {raiz_cubica:.2f}') # outra forma de usar o f string em python"
   ]
  },
  {
   "cell_type": "code",
   "execution_count": null,
   "metadata": {},
   "outputs": [],
   "source": []
  }
 ],
 "metadata": {
  "kernelspec": {
   "display_name": "Python 3",
   "language": "python",
   "name": "python3"
  },
  "language_info": {
   "codemirror_mode": {
    "name": "ipython",
    "version": 3
   },
   "file_extension": ".py",
   "mimetype": "text/x-python",
   "name": "python",
   "nbconvert_exporter": "python",
   "pygments_lexer": "ipython3",
   "version": "3.6.5"
  }
 },
 "nbformat": 4,
 "nbformat_minor": 2
}
