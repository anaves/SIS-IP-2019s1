{
 "cells": [
  {
   "cell_type": "markdown",
   "metadata": {},
   "source": [
    "# Exercícios - 05/04/2019"
   ]
  },
  {
   "cell_type": "markdown",
   "metadata": {},
   "source": [
    "4- Faça um programa que receba o código correspondente ao cargo de um funcionário e imprima qual é o cargo correspondente. Assuma que código 1 corresponde ao cargo de ESCRITURÁRIO, 2 ao cargo de SECRETÁRIO, 3 ao cargo de CAIXA, 4 ao cargo de GERENTE e 5 ao cargo de DIRETOR."
   ]
  },
  {
   "cell_type": "code",
   "execution_count": 6,
   "metadata": {},
   "outputs": [
    {
     "name": "stdin",
     "output_type": "stream",
     "text": [
      "Digite o código:  5\n"
     ]
    },
    {
     "name": "stdout",
     "output_type": "stream",
     "text": [
      "5 - cargo: Diretor\n"
     ]
    }
   ],
   "source": [
    "# entrada: código do cargo\n",
    "codigo = int(input('Digite o código: '))\n",
    "# processamento\n",
    "if codigo == 1:\n",
    "    cargo = 'Escrituário'\n",
    "elif codigo == 2:\n",
    "    cargo = 'Secretário'\n",
    "elif codigo == 3:\n",
    "    cargo = 'Caixa'\n",
    "elif codigo == 4:\n",
    "    cargo = 'Gerente'\n",
    "elif codigo == 5:\n",
    "    cargo = 'Diretor'\n",
    "else:\n",
    "    cargo = 'INVÁLIDO'\n",
    "\n",
    "print(f'{codigo} - cargo: {cargo}')"
   ]
  },
  {
   "cell_type": "markdown",
   "metadata": {},
   "source": [
    "5- Faça um programa que receba o código correspondente ao cargo de um funcionário e seu salário atual e no final mostre qual é o cargo correspondente, o valor do aumento e seu novo salário. Assuma que código 1 corresponde ao cargo de ESCRITURÁRIO com percentual de 50% de aumento, 2 ao cargo de SECRETÁRIO com 35% de aumento, 3 ao cargo de CAIXA com 20% de aumento, 4 ao cargo de GERENTE com 10% de aumento e 5 ao cargo de DIRETOR não tem aumento."
   ]
  },
  {
   "cell_type": "code",
   "execution_count": 4,
   "metadata": {},
   "outputs": [
    {
     "name": "stdout",
     "output_type": "stream",
     "text": [
      "##############################\n",
      "1 - cargo: Escrituário\n",
      "Aumento de: R$ 500.00\n",
      "Novo salário: R$ 1500.00\n",
      "##############################\n"
     ]
    }
   ],
   "source": [
    "# entrada: código do cargo\n",
    "codigo = int(input('Digite o código: '))\n",
    "salario = float(input('Digite seu salário atual: R$ '))\n",
    "# processamento\n",
    "if codigo == 1:\n",
    "    cargo = 'Escrituário'\n",
    "    taxa = 0.5 # 50% = 50/100 = 0.5\n",
    "elif codigo == 2:\n",
    "    cargo = 'Secretário'\n",
    "    taxa = 0.35\n",
    "elif codigo == 3:\n",
    "    cargo = 'Caixa'\n",
    "    taxa = 0.2\n",
    "elif codigo == 4:\n",
    "    cargo = 'Gerente'\n",
    "    taxa = 0.1\n",
    "elif codigo == 5:\n",
    "    cargo = 'Diretor'\n",
    "    taxa = 0\n",
    "else:\n",
    "    cargo = 'INVÁLIDO'\n",
    "    taxa = -1 \n",
    "\n",
    "print('#'*30)\n",
    "print(f'{codigo} - cargo: {cargo}')\n",
    "if taxa >= 0:\n",
    "    aumento = salario*taxa\n",
    "    novo_salario = salario + aumento\n",
    "    print(f'Aumento de: R$ {aumento:.2f}')\n",
    "    print(f'Novo salário: R$ {novo_salario:.2f}')\n",
    "print('#'*30)"
   ]
  },
  {
   "cell_type": "code",
   "execution_count": null,
   "metadata": {},
   "outputs": [],
   "source": []
  }
 ],
 "metadata": {
  "kernelspec": {
   "display_name": "Python 3",
   "language": "python",
   "name": "python3"
  },
  "language_info": {
   "codemirror_mode": {
    "name": "ipython",
    "version": 3
   },
   "file_extension": ".py",
   "mimetype": "text/x-python",
   "name": "python",
   "nbconvert_exporter": "python",
   "pygments_lexer": "ipython3",
   "version": "3.6.5"
  }
 },
 "nbformat": 4,
 "nbformat_minor": 2
}
