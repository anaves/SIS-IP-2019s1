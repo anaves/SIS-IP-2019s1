{
 "cells": [
  {
   "cell_type": "markdown",
   "metadata": {},
   "source": [
    "Exercícios extras - aula de 28/03/2019"
   ]
  },
  {
   "cell_type": "markdown",
   "metadata": {},
   "source": [
    "1- Faça um programa que receba uma hora (uma variável para hora e outra para minutos), calcule e mostre: a) a hora digitada convertida em minutos b) o total dos minutos, ou seja, os minutos digitados mais a conversão anterior c) o total dos minutos convertidos em segundos"
   ]
  },
  {
   "cell_type": "markdown",
   "metadata": {},
   "source": [
    "DESAFIO 2- Uma pessoa deseja colocar pregos a determinada altura do chão. Para isso, deverá comprar uma escada e apoiá-la na parede. Essa escada formará um ângulo conhecido com o chão de 45°. Pelas especificações do Inmetro, todas as escadas produzidas no Brasil têm uma distância de 30 cm entre os degraus. Assim, deve-se construir um programa para saber que tipo de escada comprar, ou seja, quantos degraus deve ter a escada para que a altura do prego seja atingidam, mesmo que aproximadamente. Desconsidere a altura da pessoa que fará o serviço."
   ]
  },
  {
   "cell_type": "code",
   "execution_count": null,
   "metadata": {},
   "outputs": [],
   "source": []
  }
 ],
 "metadata": {
  "kernelspec": {
   "display_name": "Python 3",
   "language": "python",
   "name": "python3"
  },
  "language_info": {
   "codemirror_mode": {
    "name": "ipython",
    "version": 3
   },
   "file_extension": ".py",
   "mimetype": "text/x-python",
   "name": "python",
   "nbconvert_exporter": "python",
   "pygments_lexer": "ipython3",
   "version": "3.6.5"
  }
 },
 "nbformat": 4,
 "nbformat_minor": 2
}
