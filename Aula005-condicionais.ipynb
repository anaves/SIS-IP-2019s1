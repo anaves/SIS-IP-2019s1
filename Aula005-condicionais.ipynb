{
 "cells": [
  {
   "cell_type": "markdown",
   "metadata": {},
   "source": [
    "# Comparações"
   ]
  },
  {
   "cell_type": "markdown",
   "metadata": {},
   "source": [
    "Os operadores de comparações possui uma semântica simples e muito semelhantes à de outras linguagens de programação. Quando utilizados, o retorno é um valor booleano (True ou False):"
   ]
  },
  {
   "cell_type": "markdown",
   "metadata": {},
   "source": [
    "Menor (<); Maior (>); Menor ou igual (<=); Maior ou igual (>=); Igual (==); Diferente (!=)"
   ]
  },
  {
   "cell_type": "markdown",
   "metadata": {},
   "source": [
    "Abaixo seguem alguns exemplos de uso dos operadores de comparações:"
   ]
  },
  {
   "cell_type": "code",
   "execution_count": 1,
   "metadata": {},
   "outputs": [
    {
     "data": {
      "text/plain": [
       "True"
      ]
     },
     "execution_count": 1,
     "metadata": {},
     "output_type": "execute_result"
    }
   ],
   "source": [
    "1>=1"
   ]
  },
  {
   "cell_type": "code",
   "execution_count": 2,
   "metadata": {},
   "outputs": [
    {
     "data": {
      "text/plain": [
       "False"
      ]
     },
     "execution_count": 2,
     "metadata": {},
     "output_type": "execute_result"
    }
   ],
   "source": [
    "0>=1"
   ]
  },
  {
   "cell_type": "code",
   "execution_count": 3,
   "metadata": {},
   "outputs": [
    {
     "data": {
      "text/plain": [
       "True"
      ]
     },
     "execution_count": 3,
     "metadata": {},
     "output_type": "execute_result"
    }
   ],
   "source": [
    "'maria'=='maria'"
   ]
  },
  {
   "cell_type": "code",
   "execution_count": 4,
   "metadata": {},
   "outputs": [
    {
     "data": {
      "text/plain": [
       "False"
      ]
     },
     "execution_count": 4,
     "metadata": {},
     "output_type": "execute_result"
    }
   ],
   "source": [
    "'maria'=='Maria'"
   ]
  },
  {
   "cell_type": "code",
   "execution_count": 5,
   "metadata": {},
   "outputs": [
    {
     "data": {
      "text/plain": [
       "True"
      ]
     },
     "execution_count": 5,
     "metadata": {},
     "output_type": "execute_result"
    }
   ],
   "source": [
    "9==9"
   ]
  },
  {
   "cell_type": "code",
   "execution_count": 6,
   "metadata": {},
   "outputs": [
    {
     "data": {
      "text/plain": [
       "False"
      ]
     },
     "execution_count": 6,
     "metadata": {},
     "output_type": "execute_result"
    }
   ],
   "source": [
    "9!=9"
   ]
  },
  {
   "cell_type": "code",
   "execution_count": 7,
   "metadata": {},
   "outputs": [
    {
     "data": {
      "text/plain": [
       "True"
      ]
     },
     "execution_count": 7,
     "metadata": {},
     "output_type": "execute_result"
    }
   ],
   "source": [
    "9!=8"
   ]
  },
  {
   "cell_type": "code",
   "execution_count": 8,
   "metadata": {},
   "outputs": [],
   "source": [
    "b = True"
   ]
  },
  {
   "cell_type": "code",
   "execution_count": 9,
   "metadata": {},
   "outputs": [
    {
     "data": {
      "text/plain": [
       "True"
      ]
     },
     "execution_count": 9,
     "metadata": {},
     "output_type": "execute_result"
    }
   ],
   "source": [
    "b"
   ]
  },
  {
   "cell_type": "code",
   "execution_count": 10,
   "metadata": {},
   "outputs": [
    {
     "data": {
      "text/plain": [
       "False"
      ]
     },
     "execution_count": 10,
     "metadata": {},
     "output_type": "execute_result"
    }
   ],
   "source": [
    "not b"
   ]
  },
  {
   "cell_type": "code",
   "execution_count": 11,
   "metadata": {},
   "outputs": [
    {
     "data": {
      "text/plain": [
       "False"
      ]
     },
     "execution_count": 11,
     "metadata": {},
     "output_type": "execute_result"
    }
   ],
   "source": [
    "not True"
   ]
  },
  {
   "cell_type": "code",
   "execution_count": 12,
   "metadata": {},
   "outputs": [
    {
     "data": {
      "text/plain": [
       "True"
      ]
     },
     "execution_count": 12,
     "metadata": {},
     "output_type": "execute_result"
    }
   ],
   "source": [
    "not False"
   ]
  },
  {
   "cell_type": "code",
   "execution_count": 13,
   "metadata": {},
   "outputs": [
    {
     "data": {
      "text/plain": [
       "True"
      ]
     },
     "execution_count": 13,
     "metadata": {},
     "output_type": "execute_result"
    }
   ],
   "source": [
    "idade = int(input('Digite sua idade'))\n",
    "idade >= 18"
   ]
  },
  {
   "cell_type": "code",
   "execution_count": 14,
   "metadata": {},
   "outputs": [
    {
     "data": {
      "text/plain": [
       "False"
      ]
     },
     "execution_count": 14,
     "metadata": {},
     "output_type": "execute_result"
    }
   ],
   "source": [
    "idade = int(input('Digite sua idade'))\n",
    "idade >= 18 and idade <=30"
   ]
  },
  {
   "cell_type": "code",
   "execution_count": 15,
   "metadata": {},
   "outputs": [
    {
     "data": {
      "text/plain": [
       "True"
      ]
     },
     "execution_count": 15,
     "metadata": {},
     "output_type": "execute_result"
    }
   ],
   "source": [
    "idade = int(input('Digite sua idade'))\n",
    "idade >= 18 or idade <=30"
   ]
  },
  {
   "cell_type": "markdown",
   "metadata": {},
   "source": [
    "# Exemplos:"
   ]
  },
  {
   "cell_type": "markdown",
   "metadata": {},
   "source": [
    "1- Faça um programa que peça a média de um aluno e imprima uma mensagem dizendo que ele foi APROVADO quando sua média for maior ou igual a 70 e a mensagem REPROVADO caso contrário"
   ]
  },
  {
   "cell_type": "code",
   "execution_count": 16,
   "metadata": {},
   "outputs": [
    {
     "name": "stdout",
     "output_type": "stream",
     "text": [
      "Reprovado\n",
      "Fim do programa!!!\n"
     ]
    }
   ],
   "source": [
    "# entrada de dados\n",
    "media = float(input('Digite a média'))\n",
    "# processamento\n",
    "if media >= 70:\n",
    "    # somente se condição for True\n",
    "    print('Aprovado')\n",
    "else:\n",
    "    print('Reprovado')\n",
    "    \n",
    "print('Fim do programa!!!')"
   ]
  },
  {
   "cell_type": "markdown",
   "metadata": {},
   "source": [
    "2- Faça um programa que receba dois números e imprima qual é o maior deles."
   ]
  },
  {
   "cell_type": "code",
   "execution_count": 17,
   "metadata": {},
   "outputs": [
    {
     "name": "stdout",
     "output_type": "stream",
     "text": [
      "Maior: 10.0\n",
      "Menor: 5.0\n"
     ]
    }
   ],
   "source": [
    "# entrada de dados\n",
    "n1 = float(input('1º valor: '))\n",
    "n2 = float(input('2º valor: '))\n",
    "if n1 > n2:\n",
    "    maior = n1\n",
    "    menor = n2\n",
    "else:\n",
    "    maior = n2\n",
    "    menor = n1\n",
    "# saída sempre será impressa    \n",
    "print(f'Maior: {maior}')\n",
    "print(f'Menor: {menor}')"
   ]
  },
  {
   "cell_type": "markdown",
   "metadata": {},
   "source": [
    "3- Faça um programa que receba três números e mostre-os em ordem crescente. Suponha que o usuário digitará três números diferentes"
   ]
  },
  {
   "cell_type": "markdown",
   "metadata": {},
   "source": [
    "Solução inicial"
   ]
  },
  {
   "cell_type": "code",
   "execution_count": 18,
   "metadata": {},
   "outputs": [
    {
     "name": "stdout",
     "output_type": "stream",
     "text": [
      "5.0 < 80.0 < 90.0\n"
     ]
    }
   ],
   "source": [
    "# entrada de dados : 3 valores numéricos\n",
    "va = float(input('Digite 1º valor: '))\n",
    "vb = float(input('Digite 2º valor: '))\n",
    "vc = float(input('Digite 3º valor: '))\n",
    "\n",
    "# processamento: identificar o menor, maior e valor do meio\n",
    "if va > vb > vc: # equivalente a if va > vb and vb > vc\n",
    "    maior = va\n",
    "    meio = vb\n",
    "    menor = vc\n",
    "\n",
    "if va > vc > vb:\n",
    "    maior = va\n",
    "    meio = vc\n",
    "    menor = vb\n",
    "    \n",
    "if vb > va > vc:\n",
    "    maior = vb\n",
    "    meio = va\n",
    "    menor = vc\n",
    "\n",
    "if vb > vc > va:\n",
    "    maior = vb\n",
    "    meio = vc\n",
    "    menor = va\n",
    "\n",
    "if vc > va > vb:\n",
    "    maior = vc\n",
    "    meio = va\n",
    "    menor = vb\n",
    "\n",
    "if vc > vb > va:\n",
    "    maior = va\n",
    "    meio = vc\n",
    "    menor = vb\n",
    "\n",
    "print(f'{menor} < {meio} < {maior}')"
   ]
  }
 ],
 "metadata": {
  "kernelspec": {
   "display_name": "Python 3",
   "language": "python",
   "name": "python3"
  },
  "language_info": {
   "codemirror_mode": {
    "name": "ipython",
    "version": 3
   },
   "file_extension": ".py",
   "mimetype": "text/x-python",
   "name": "python",
   "nbconvert_exporter": "python",
   "pygments_lexer": "ipython3",
   "version": "3.6.5"
  }
 },
 "nbformat": 4,
 "nbformat_minor": 2
}
